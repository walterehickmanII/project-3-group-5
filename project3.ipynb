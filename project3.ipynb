{
 "cells": [
  {
   "cell_type": "code",
   "execution_count": null,
   "metadata": {},
   "outputs": [],
   "source": [
    "from tensorflow.keras import layers, models, Model\n",
    "import numpy as np\n",
    "import pandas as pd"
   ]
  },
  {
   "cell_type": "code",
   "execution_count": null,
   "metadata": {},
   "outputs": [],
   "source": [
    "# Import the data\n",
    "path = 'https://static.bc-edx.com/ai/ail-v-1-0/m19/lesson_3/datasets/wine_quality.csv'\n",
    "df = pd.read_csv(path)\n",
    "df.head()"
   ]
  },
  {
   "cell_type": "code",
   "execution_count": null,
   "metadata": {},
   "outputs": [],
   "source": [
    "# Preprocess y\n",
    "from sklearn.preprocessing import LabelEncoder, OneHotEncoder\n",
    "\n",
    "# Preprocess \"quality\" column (one-hot encoding)\n",
    "quality_encoder = OneHotEncoder(sparse_output=False)\n",
    "quality_encoded = quality_encoder.fit_transform(df[['quality']])\n",
    "quality_columns = quality_encoder.get_feature_names_out(['quality'])\n",
    "df_quality_encoded = pd.DataFrame(quality_encoded, columns=quality_columns)\n",
    "\n",
    "# Preprocess \"color\" column (label encoding for binary; one-hot encoding for multiple categories)\n",
    "color_encoder = LabelEncoder()\n",
    "df['color_encoded'] = color_encoder.fit_transform(df['color'])\n",
    "\n",
    "# Concatenate the encoded columns to the original DataFrame\n",
    "df_processed = pd.concat([df, df_quality_encoded], axis=1)\n",
    "\n",
    "# Drop the original \"quality\" and \"color\" columns\n",
    "df_processed = df_processed.drop(['quality', 'color'], axis=1)\n",
    "\n",
    "df_processed.head()"
   ]
  },
  {
   "cell_type": "code",
   "execution_count": null,
   "metadata": {},
   "outputs": [],
   "source": [
    "# Split data into X and two separate y variables\n",
    "X = df_processed.drop(columns=['quality_good', 'quality_ok', 'quality_bad', 'color_encoded'])\n",
    "\n",
    "y_color = df_processed['color_encoded']\n",
    "\n",
    "y_quality = df_processed[['quality_good', 'quality_ok', 'quality_bad']]\n",
    "\n",
    "# Split data into training and testing sets\n",
    "from sklearn.model_selection import train_test_split\n",
    "X_train, X_test, y_color_train, y_color_test, y_quality_train, y_quality_test = train_test_split(X, y_color, y_quality)"
   ]
  },
  {
   "cell_type": "code",
   "execution_count": null,
   "metadata": {},
   "outputs": [],
   "source": [
    "# Create the shared layers of the model\n",
    "\n",
    "# Input layer\n",
    "input_layer = layers.Input(shape=(X.shape[1],), name='input_features')\n",
    "\n",
    "# Shared hidden layers\n",
    "shared_layer1 = layers.Dense(64, activation='relu')(input_layer)\n",
    "shared_layer2 = layers.Dense(32, activation='relu')(shared_layer1)"
   ]
  },
  {
   "cell_type": "code",
   "execution_count": null,
   "metadata": {},
   "outputs": [],
   "source": [
    "# Branch for quality prediction\n",
    "quality_output = layers.Dense(3, activation='softmax', name='quality_output')(shared_layer2)\n",
    "\n",
    "# Branch for color prediction\n",
    "color_output = layers.Dense(1, activation='sigmoid', name='color_output')(shared_layer2)"
   ]
  },
  {
   "cell_type": "code",
   "execution_count": null,
   "metadata": {},
   "outputs": [],
   "source": [
    "# Create the model\n",
    "model = Model(inputs=input_layer, outputs=[quality_output, color_output])\n",
    "\n",
    "# Compile the model\n",
    "model.compile(optimizer='adam',\n",
    "              loss={'quality_output': 'categorical_crossentropy', 'color_output': 'binary_crossentropy'},\n",
    "              metrics={'quality_output': 'accuracy', 'color_output': 'accuracy'})\n",
    "\n",
    "# Display the model summary\n",
    "model.summary()"
   ]
  },
  {
   "cell_type": "code",
   "execution_count": null,
   "metadata": {},
   "outputs": [],
   "source": [
    "# Fit the model\n",
    "model.fit(\n",
    "    X,\n",
    "    {'quality_output': y_quality, 'color_output': y_color},\n",
    "    epochs=10,\n",
    "    batch_size=32,\n",
    "    validation_split=0.2\n",
    ")"
   ]
  },
  {
   "cell_type": "code",
   "execution_count": null,
   "metadata": {},
   "outputs": [],
   "source": [
    "# Evaluate the model with the testing data\n",
    "test_results = model.evaluate(X_test, {'quality_output': y_quality_test, 'color_output': y_color_test})\n",
    "test_results"
   ]
  },
  {
   "cell_type": "code",
   "execution_count": null,
   "metadata": {},
   "outputs": [],
   "source": [
    "# Print the quality and color accuracy\n",
    "print(f\"Quality Accuracy: {test_results[3]}\")\n",
    "print(f\"Color Accuracy: {test_results[4]}\")"
   ]
  }
 ],
 "metadata": {
  "language_info": {
   "name": "python"
  }
 },
 "nbformat": 4,
 "nbformat_minor": 2
}
