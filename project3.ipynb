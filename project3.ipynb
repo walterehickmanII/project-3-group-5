{
  "cells": [
    {
      "cell_type": "code",
      "execution_count": 1,
      "metadata": {
        "id": "_RDMFA9r9sDF"
      },
      "outputs": [],
      "source": [
        "from tensorflow.keras import layers, models, Model\n",
        "import numpy as np\n",
        "import pandas as pd"
      ]
    },
    {
      "cell_type": "code",
      "execution_count": 2,
      "metadata": {
        "colab": {
          "base_uri": "https://localhost:8080/",
          "height": 241
        },
        "id": "vxeQQtXAz8R3",
        "outputId": "83e96ea0-dd28-4b4a-ffbd-a78a7265c95e"
      },
      "outputs": [
        {
          "data": {
            "text/html": [
              "<div>\n",
              "<style scoped>\n",
              "    .dataframe tbody tr th:only-of-type {\n",
              "        vertical-align: middle;\n",
              "    }\n",
              "\n",
              "    .dataframe tbody tr th {\n",
              "        vertical-align: top;\n",
              "    }\n",
              "\n",
              "    .dataframe thead th {\n",
              "        text-align: right;\n",
              "    }\n",
              "</style>\n",
              "<table border=\"1\" class=\"dataframe\">\n",
              "  <thead>\n",
              "    <tr style=\"text-align: right;\">\n",
              "      <th></th>\n",
              "      <th>fixed acidity</th>\n",
              "      <th>volatile acidity</th>\n",
              "      <th>citric acid</th>\n",
              "      <th>residual sugar</th>\n",
              "      <th>chlorides</th>\n",
              "      <th>free sulfur dioxide</th>\n",
              "      <th>total sulfur dioxide</th>\n",
              "      <th>density</th>\n",
              "      <th>pH</th>\n",
              "      <th>sulphates</th>\n",
              "      <th>alcohol</th>\n",
              "      <th>quality</th>\n",
              "      <th>color</th>\n",
              "    </tr>\n",
              "  </thead>\n",
              "  <tbody>\n",
              "    <tr>\n",
              "      <th>0</th>\n",
              "      <td>7.2</td>\n",
              "      <td>0.39</td>\n",
              "      <td>0.63</td>\n",
              "      <td>11.0</td>\n",
              "      <td>0.044</td>\n",
              "      <td>55.0</td>\n",
              "      <td>156.0</td>\n",
              "      <td>0.99740</td>\n",
              "      <td>3.09</td>\n",
              "      <td>0.44</td>\n",
              "      <td>8.7</td>\n",
              "      <td>ok</td>\n",
              "      <td>white</td>\n",
              "    </tr>\n",
              "    <tr>\n",
              "      <th>1</th>\n",
              "      <td>6.9</td>\n",
              "      <td>0.63</td>\n",
              "      <td>0.02</td>\n",
              "      <td>1.9</td>\n",
              "      <td>0.078</td>\n",
              "      <td>18.0</td>\n",
              "      <td>30.0</td>\n",
              "      <td>0.99712</td>\n",
              "      <td>3.40</td>\n",
              "      <td>0.75</td>\n",
              "      <td>9.8</td>\n",
              "      <td>ok</td>\n",
              "      <td>red</td>\n",
              "    </tr>\n",
              "    <tr>\n",
              "      <th>2</th>\n",
              "      <td>6.9</td>\n",
              "      <td>0.30</td>\n",
              "      <td>0.33</td>\n",
              "      <td>4.1</td>\n",
              "      <td>0.035</td>\n",
              "      <td>26.0</td>\n",
              "      <td>155.0</td>\n",
              "      <td>0.99250</td>\n",
              "      <td>3.25</td>\n",
              "      <td>0.79</td>\n",
              "      <td>12.3</td>\n",
              "      <td>good</td>\n",
              "      <td>white</td>\n",
              "    </tr>\n",
              "    <tr>\n",
              "      <th>3</th>\n",
              "      <td>7.3</td>\n",
              "      <td>0.42</td>\n",
              "      <td>0.38</td>\n",
              "      <td>6.8</td>\n",
              "      <td>0.045</td>\n",
              "      <td>29.0</td>\n",
              "      <td>122.0</td>\n",
              "      <td>0.99250</td>\n",
              "      <td>3.19</td>\n",
              "      <td>0.37</td>\n",
              "      <td>12.6</td>\n",
              "      <td>good</td>\n",
              "      <td>white</td>\n",
              "    </tr>\n",
              "    <tr>\n",
              "      <th>4</th>\n",
              "      <td>6.9</td>\n",
              "      <td>0.18</td>\n",
              "      <td>0.38</td>\n",
              "      <td>8.1</td>\n",
              "      <td>0.049</td>\n",
              "      <td>44.0</td>\n",
              "      <td>176.0</td>\n",
              "      <td>0.99580</td>\n",
              "      <td>3.30</td>\n",
              "      <td>0.54</td>\n",
              "      <td>9.8</td>\n",
              "      <td>ok</td>\n",
              "      <td>white</td>\n",
              "    </tr>\n",
              "  </tbody>\n",
              "</table>\n",
              "</div>"
            ],
            "text/plain": [
              "   fixed acidity  volatile acidity  citric acid  residual sugar  chlorides  \\\n",
              "0            7.2              0.39         0.63            11.0      0.044   \n",
              "1            6.9              0.63         0.02             1.9      0.078   \n",
              "2            6.9              0.30         0.33             4.1      0.035   \n",
              "3            7.3              0.42         0.38             6.8      0.045   \n",
              "4            6.9              0.18         0.38             8.1      0.049   \n",
              "\n",
              "   free sulfur dioxide  total sulfur dioxide  density    pH  sulphates  \\\n",
              "0                 55.0                 156.0  0.99740  3.09       0.44   \n",
              "1                 18.0                  30.0  0.99712  3.40       0.75   \n",
              "2                 26.0                 155.0  0.99250  3.25       0.79   \n",
              "3                 29.0                 122.0  0.99250  3.19       0.37   \n",
              "4                 44.0                 176.0  0.99580  3.30       0.54   \n",
              "\n",
              "   alcohol quality  color  \n",
              "0      8.7      ok  white  \n",
              "1      9.8      ok    red  \n",
              "2     12.3    good  white  \n",
              "3     12.6    good  white  \n",
              "4      9.8      ok  white  "
            ]
          },
          "execution_count": 2,
          "metadata": {},
          "output_type": "execute_result"
        }
      ],
      "source": [
        "# Import the data\n",
        "path = 'https://static.bc-edx.com/ai/ail-v-1-0/m19/lesson_3/datasets/wine_quality.csv'\n",
        "df = pd.read_csv(path)\n",
        "df.head()"
      ]
    },
    {
      "cell_type": "code",
      "execution_count": 3,
      "metadata": {
        "colab": {
          "base_uri": "https://localhost:8080/",
          "height": 261
        },
        "id": "UcrX6KMJ0L98",
        "outputId": "296c20f0-c7c8-4d12-a1f7-e0cae1953639"
      },
      "outputs": [
        {
          "data": {
            "text/html": [
              "<div>\n",
              "<style scoped>\n",
              "    .dataframe tbody tr th:only-of-type {\n",
              "        vertical-align: middle;\n",
              "    }\n",
              "\n",
              "    .dataframe tbody tr th {\n",
              "        vertical-align: top;\n",
              "    }\n",
              "\n",
              "    .dataframe thead th {\n",
              "        text-align: right;\n",
              "    }\n",
              "</style>\n",
              "<table border=\"1\" class=\"dataframe\">\n",
              "  <thead>\n",
              "    <tr style=\"text-align: right;\">\n",
              "      <th></th>\n",
              "      <th>fixed acidity</th>\n",
              "      <th>volatile acidity</th>\n",
              "      <th>citric acid</th>\n",
              "      <th>residual sugar</th>\n",
              "      <th>chlorides</th>\n",
              "      <th>free sulfur dioxide</th>\n",
              "      <th>total sulfur dioxide</th>\n",
              "      <th>density</th>\n",
              "      <th>pH</th>\n",
              "      <th>sulphates</th>\n",
              "      <th>alcohol</th>\n",
              "      <th>color_encoded</th>\n",
              "      <th>quality_bad</th>\n",
              "      <th>quality_good</th>\n",
              "      <th>quality_ok</th>\n",
              "    </tr>\n",
              "  </thead>\n",
              "  <tbody>\n",
              "    <tr>\n",
              "      <th>0</th>\n",
              "      <td>7.2</td>\n",
              "      <td>0.39</td>\n",
              "      <td>0.63</td>\n",
              "      <td>11.0</td>\n",
              "      <td>0.044</td>\n",
              "      <td>55.0</td>\n",
              "      <td>156.0</td>\n",
              "      <td>0.99740</td>\n",
              "      <td>3.09</td>\n",
              "      <td>0.44</td>\n",
              "      <td>8.7</td>\n",
              "      <td>1</td>\n",
              "      <td>0.0</td>\n",
              "      <td>0.0</td>\n",
              "      <td>1.0</td>\n",
              "    </tr>\n",
              "    <tr>\n",
              "      <th>1</th>\n",
              "      <td>6.9</td>\n",
              "      <td>0.63</td>\n",
              "      <td>0.02</td>\n",
              "      <td>1.9</td>\n",
              "      <td>0.078</td>\n",
              "      <td>18.0</td>\n",
              "      <td>30.0</td>\n",
              "      <td>0.99712</td>\n",
              "      <td>3.40</td>\n",
              "      <td>0.75</td>\n",
              "      <td>9.8</td>\n",
              "      <td>0</td>\n",
              "      <td>0.0</td>\n",
              "      <td>0.0</td>\n",
              "      <td>1.0</td>\n",
              "    </tr>\n",
              "    <tr>\n",
              "      <th>2</th>\n",
              "      <td>6.9</td>\n",
              "      <td>0.30</td>\n",
              "      <td>0.33</td>\n",
              "      <td>4.1</td>\n",
              "      <td>0.035</td>\n",
              "      <td>26.0</td>\n",
              "      <td>155.0</td>\n",
              "      <td>0.99250</td>\n",
              "      <td>3.25</td>\n",
              "      <td>0.79</td>\n",
              "      <td>12.3</td>\n",
              "      <td>1</td>\n",
              "      <td>0.0</td>\n",
              "      <td>1.0</td>\n",
              "      <td>0.0</td>\n",
              "    </tr>\n",
              "    <tr>\n",
              "      <th>3</th>\n",
              "      <td>7.3</td>\n",
              "      <td>0.42</td>\n",
              "      <td>0.38</td>\n",
              "      <td>6.8</td>\n",
              "      <td>0.045</td>\n",
              "      <td>29.0</td>\n",
              "      <td>122.0</td>\n",
              "      <td>0.99250</td>\n",
              "      <td>3.19</td>\n",
              "      <td>0.37</td>\n",
              "      <td>12.6</td>\n",
              "      <td>1</td>\n",
              "      <td>0.0</td>\n",
              "      <td>1.0</td>\n",
              "      <td>0.0</td>\n",
              "    </tr>\n",
              "    <tr>\n",
              "      <th>4</th>\n",
              "      <td>6.9</td>\n",
              "      <td>0.18</td>\n",
              "      <td>0.38</td>\n",
              "      <td>8.1</td>\n",
              "      <td>0.049</td>\n",
              "      <td>44.0</td>\n",
              "      <td>176.0</td>\n",
              "      <td>0.99580</td>\n",
              "      <td>3.30</td>\n",
              "      <td>0.54</td>\n",
              "      <td>9.8</td>\n",
              "      <td>1</td>\n",
              "      <td>0.0</td>\n",
              "      <td>0.0</td>\n",
              "      <td>1.0</td>\n",
              "    </tr>\n",
              "  </tbody>\n",
              "</table>\n",
              "</div>"
            ],
            "text/plain": [
              "   fixed acidity  volatile acidity  citric acid  residual sugar  chlorides  \\\n",
              "0            7.2              0.39         0.63            11.0      0.044   \n",
              "1            6.9              0.63         0.02             1.9      0.078   \n",
              "2            6.9              0.30         0.33             4.1      0.035   \n",
              "3            7.3              0.42         0.38             6.8      0.045   \n",
              "4            6.9              0.18         0.38             8.1      0.049   \n",
              "\n",
              "   free sulfur dioxide  total sulfur dioxide  density    pH  sulphates  \\\n",
              "0                 55.0                 156.0  0.99740  3.09       0.44   \n",
              "1                 18.0                  30.0  0.99712  3.40       0.75   \n",
              "2                 26.0                 155.0  0.99250  3.25       0.79   \n",
              "3                 29.0                 122.0  0.99250  3.19       0.37   \n",
              "4                 44.0                 176.0  0.99580  3.30       0.54   \n",
              "\n",
              "   alcohol  color_encoded  quality_bad  quality_good  quality_ok  \n",
              "0      8.7              1          0.0           0.0         1.0  \n",
              "1      9.8              0          0.0           0.0         1.0  \n",
              "2     12.3              1          0.0           1.0         0.0  \n",
              "3     12.6              1          0.0           1.0         0.0  \n",
              "4      9.8              1          0.0           0.0         1.0  "
            ]
          },
          "execution_count": 3,
          "metadata": {},
          "output_type": "execute_result"
        }
      ],
      "source": [
        "# Preprocess y\n",
        "from sklearn.preprocessing import LabelEncoder, OneHotEncoder\n",
        "\n",
        "# Preprocess \"quality\" column (one-hot encoding)\n",
        "quality_encoder = OneHotEncoder(sparse_output=False)\n",
        "quality_encoded = quality_encoder.fit_transform(df[['quality']])\n",
        "quality_columns = quality_encoder.get_feature_names_out(['quality'])\n",
        "df_quality_encoded = pd.DataFrame(quality_encoded, columns=quality_columns)\n",
        "\n",
        "# Preprocess \"color\" column (label encoding for binary; one-hot encoding for multiple categories)\n",
        "color_encoder = LabelEncoder()\n",
        "df['color_encoded'] = color_encoder.fit_transform(df['color'])\n",
        "\n",
        "# Concatenate the encoded columns to the original DataFrame\n",
        "df_processed = pd.concat([df, df_quality_encoded], axis=1)\n",
        "\n",
        "# Drop the original \"quality\" and \"color\" columns\n",
        "df_processed = df_processed.drop(['quality', 'color'], axis=1)\n",
        "\n",
        "df_processed.head()\n"
      ]
    },
    {
      "cell_type": "code",
      "execution_count": 4,
      "metadata": {
        "id": "EBeF44_d3Y7J"
      },
      "outputs": [],
      "source": [
        "# Split data into X and two separate y variables\n",
        "X = df_processed.drop(columns=['quality_good', 'quality_ok', 'quality_bad', 'color_encoded'])\n",
        "\n",
        "y_color = df_processed['color_encoded']\n",
        "\n",
        "y_quality = df_processed[['quality_good', 'quality_ok', 'quality_bad']]\n",
        "\n",
        "# Split data into training and testing sets\n",
        "from sklearn.model_selection import train_test_split\n",
        "X_train, X_test, y_color_train, y_color_test, y_quality_train, y_quality_test = train_test_split(X, y_color, y_quality)"
      ]
    },
    {
      "cell_type": "code",
      "execution_count": 5,
      "metadata": {
        "id": "YCih8LTC5MA-"
      },
      "outputs": [],
      "source": [
        "# Create the shared layers of the model\n",
        "\n",
        "# Input layer\n",
        "input_layer = layers.Input(shape=(X.shape[1],), name='input_features')\n",
        "\n",
        "# Shared hidden layers\n",
        "shared_layer1 = layers.Dense(64, activation='relu')(input_layer)\n",
        "shared_layer2 = layers.Dense(32, activation='relu')(shared_layer1)"
      ]
    },
    {
      "cell_type": "code",
      "execution_count": 6,
      "metadata": {
        "id": "YkFOHXL-9cBb"
      },
      "outputs": [],
      "source": [
        "# Branch for quality prediction\n",
        "quality_output = layers.Dense(3, activation='softmax', name='quality_output')(shared_layer2)\n",
        "\n",
        "# Branch for color prediction\n",
        "color_output = layers.Dense(1, activation='sigmoid', name='color_output')(shared_layer2)"
      ]
    },
    {
      "cell_type": "code",
      "execution_count": 7,
      "metadata": {
        "colab": {
          "base_uri": "https://localhost:8080/"
        },
        "id": "r32fuOYI-6zw",
        "outputId": "da895d8f-2975-4f1e-b376-f4c2b3c193ee"
      },
      "outputs": [
        {
          "data": {
            "text/html": [
              "<pre style=\"white-space:pre;overflow-x:auto;line-height:normal;font-family:Menlo,'DejaVu Sans Mono',consolas,'Courier New',monospace\"><span style=\"font-weight: bold\">Model: \"functional_1\"</span>\n",
              "</pre>\n"
            ],
            "text/plain": [
              "\u001b[1mModel: \"functional_1\"\u001b[0m\n"
            ]
          },
          "metadata": {},
          "output_type": "display_data"
        },
        {
          "data": {
            "text/html": [
              "<pre style=\"white-space:pre;overflow-x:auto;line-height:normal;font-family:Menlo,'DejaVu Sans Mono',consolas,'Courier New',monospace\">┏━━━━━━━━━━━━━━━━━━━━━┳━━━━━━━━━━━━━━━━━━━┳━━━━━━━━━━━━┳━━━━━━━━━━━━━━━━━━━┓\n",
              "┃<span style=\"font-weight: bold\"> Layer (type)        </span>┃<span style=\"font-weight: bold\"> Output Shape      </span>┃<span style=\"font-weight: bold\">    Param # </span>┃<span style=\"font-weight: bold\"> Connected to      </span>┃\n",
              "┡━━━━━━━━━━━━━━━━━━━━━╇━━━━━━━━━━━━━━━━━━━╇━━━━━━━━━━━━╇━━━━━━━━━━━━━━━━━━━┩\n",
              "│ input_features      │ (<span style=\"color: #00d7ff; text-decoration-color: #00d7ff\">None</span>, <span style=\"color: #00af00; text-decoration-color: #00af00\">11</span>)        │          <span style=\"color: #00af00; text-decoration-color: #00af00\">0</span> │ -                 │\n",
              "│ (<span style=\"color: #0087ff; text-decoration-color: #0087ff\">InputLayer</span>)        │                   │            │                   │\n",
              "├─────────────────────┼───────────────────┼────────────┼───────────────────┤\n",
              "│ dense (<span style=\"color: #0087ff; text-decoration-color: #0087ff\">Dense</span>)       │ (<span style=\"color: #00d7ff; text-decoration-color: #00d7ff\">None</span>, <span style=\"color: #00af00; text-decoration-color: #00af00\">64</span>)        │        <span style=\"color: #00af00; text-decoration-color: #00af00\">768</span> │ input_features[<span style=\"color: #00af00; text-decoration-color: #00af00\">0</span>… │\n",
              "├─────────────────────┼───────────────────┼────────────┼───────────────────┤\n",
              "│ dense_1 (<span style=\"color: #0087ff; text-decoration-color: #0087ff\">Dense</span>)     │ (<span style=\"color: #00d7ff; text-decoration-color: #00d7ff\">None</span>, <span style=\"color: #00af00; text-decoration-color: #00af00\">32</span>)        │      <span style=\"color: #00af00; text-decoration-color: #00af00\">2,080</span> │ dense[<span style=\"color: #00af00; text-decoration-color: #00af00\">0</span>][<span style=\"color: #00af00; text-decoration-color: #00af00\">0</span>]       │\n",
              "├─────────────────────┼───────────────────┼────────────┼───────────────────┤\n",
              "│ quality_output      │ (<span style=\"color: #00d7ff; text-decoration-color: #00d7ff\">None</span>, <span style=\"color: #00af00; text-decoration-color: #00af00\">3</span>)         │         <span style=\"color: #00af00; text-decoration-color: #00af00\">99</span> │ dense_1[<span style=\"color: #00af00; text-decoration-color: #00af00\">0</span>][<span style=\"color: #00af00; text-decoration-color: #00af00\">0</span>]     │\n",
              "│ (<span style=\"color: #0087ff; text-decoration-color: #0087ff\">Dense</span>)             │                   │            │                   │\n",
              "├─────────────────────┼───────────────────┼────────────┼───────────────────┤\n",
              "│ color_output        │ (<span style=\"color: #00d7ff; text-decoration-color: #00d7ff\">None</span>, <span style=\"color: #00af00; text-decoration-color: #00af00\">1</span>)         │         <span style=\"color: #00af00; text-decoration-color: #00af00\">33</span> │ dense_1[<span style=\"color: #00af00; text-decoration-color: #00af00\">0</span>][<span style=\"color: #00af00; text-decoration-color: #00af00\">0</span>]     │\n",
              "│ (<span style=\"color: #0087ff; text-decoration-color: #0087ff\">Dense</span>)             │                   │            │                   │\n",
              "└─────────────────────┴───────────────────┴────────────┴───────────────────┘\n",
              "</pre>\n"
            ],
            "text/plain": [
              "┏━━━━━━━━━━━━━━━━━━━━━┳━━━━━━━━━━━━━━━━━━━┳━━━━━━━━━━━━┳━━━━━━━━━━━━━━━━━━━┓\n",
              "┃\u001b[1m \u001b[0m\u001b[1mLayer (type)       \u001b[0m\u001b[1m \u001b[0m┃\u001b[1m \u001b[0m\u001b[1mOutput Shape     \u001b[0m\u001b[1m \u001b[0m┃\u001b[1m \u001b[0m\u001b[1m   Param #\u001b[0m\u001b[1m \u001b[0m┃\u001b[1m \u001b[0m\u001b[1mConnected to     \u001b[0m\u001b[1m \u001b[0m┃\n",
              "┡━━━━━━━━━━━━━━━━━━━━━╇━━━━━━━━━━━━━━━━━━━╇━━━━━━━━━━━━╇━━━━━━━━━━━━━━━━━━━┩\n",
              "│ input_features      │ (\u001b[38;5;45mNone\u001b[0m, \u001b[38;5;34m11\u001b[0m)        │          \u001b[38;5;34m0\u001b[0m │ -                 │\n",
              "│ (\u001b[38;5;33mInputLayer\u001b[0m)        │                   │            │                   │\n",
              "├─────────────────────┼───────────────────┼────────────┼───────────────────┤\n",
              "│ dense (\u001b[38;5;33mDense\u001b[0m)       │ (\u001b[38;5;45mNone\u001b[0m, \u001b[38;5;34m64\u001b[0m)        │        \u001b[38;5;34m768\u001b[0m │ input_features[\u001b[38;5;34m0\u001b[0m… │\n",
              "├─────────────────────┼───────────────────┼────────────┼───────────────────┤\n",
              "│ dense_1 (\u001b[38;5;33mDense\u001b[0m)     │ (\u001b[38;5;45mNone\u001b[0m, \u001b[38;5;34m32\u001b[0m)        │      \u001b[38;5;34m2,080\u001b[0m │ dense[\u001b[38;5;34m0\u001b[0m][\u001b[38;5;34m0\u001b[0m]       │\n",
              "├─────────────────────┼───────────────────┼────────────┼───────────────────┤\n",
              "│ quality_output      │ (\u001b[38;5;45mNone\u001b[0m, \u001b[38;5;34m3\u001b[0m)         │         \u001b[38;5;34m99\u001b[0m │ dense_1[\u001b[38;5;34m0\u001b[0m][\u001b[38;5;34m0\u001b[0m]     │\n",
              "│ (\u001b[38;5;33mDense\u001b[0m)             │                   │            │                   │\n",
              "├─────────────────────┼───────────────────┼────────────┼───────────────────┤\n",
              "│ color_output        │ (\u001b[38;5;45mNone\u001b[0m, \u001b[38;5;34m1\u001b[0m)         │         \u001b[38;5;34m33\u001b[0m │ dense_1[\u001b[38;5;34m0\u001b[0m][\u001b[38;5;34m0\u001b[0m]     │\n",
              "│ (\u001b[38;5;33mDense\u001b[0m)             │                   │            │                   │\n",
              "└─────────────────────┴───────────────────┴────────────┴───────────────────┘\n"
            ]
          },
          "metadata": {},
          "output_type": "display_data"
        },
        {
          "data": {
            "text/html": [
              "<pre style=\"white-space:pre;overflow-x:auto;line-height:normal;font-family:Menlo,'DejaVu Sans Mono',consolas,'Courier New',monospace\"><span style=\"font-weight: bold\"> Total params: </span><span style=\"color: #00af00; text-decoration-color: #00af00\">2,980</span> (11.64 KB)\n",
              "</pre>\n"
            ],
            "text/plain": [
              "\u001b[1m Total params: \u001b[0m\u001b[38;5;34m2,980\u001b[0m (11.64 KB)\n"
            ]
          },
          "metadata": {},
          "output_type": "display_data"
        },
        {
          "data": {
            "text/html": [
              "<pre style=\"white-space:pre;overflow-x:auto;line-height:normal;font-family:Menlo,'DejaVu Sans Mono',consolas,'Courier New',monospace\"><span style=\"font-weight: bold\"> Trainable params: </span><span style=\"color: #00af00; text-decoration-color: #00af00\">2,980</span> (11.64 KB)\n",
              "</pre>\n"
            ],
            "text/plain": [
              "\u001b[1m Trainable params: \u001b[0m\u001b[38;5;34m2,980\u001b[0m (11.64 KB)\n"
            ]
          },
          "metadata": {},
          "output_type": "display_data"
        },
        {
          "data": {
            "text/html": [
              "<pre style=\"white-space:pre;overflow-x:auto;line-height:normal;font-family:Menlo,'DejaVu Sans Mono',consolas,'Courier New',monospace\"><span style=\"font-weight: bold\"> Non-trainable params: </span><span style=\"color: #00af00; text-decoration-color: #00af00\">0</span> (0.00 B)\n",
              "</pre>\n"
            ],
            "text/plain": [
              "\u001b[1m Non-trainable params: \u001b[0m\u001b[38;5;34m0\u001b[0m (0.00 B)\n"
            ]
          },
          "metadata": {},
          "output_type": "display_data"
        }
      ],
      "source": [
        "# Create the model\n",
        "model = Model(inputs=input_layer, outputs=[quality_output, color_output])\n",
        "\n",
        "# Compile the model\n",
        "model.compile(optimizer='adam',\n",
        "              loss={'quality_output': 'categorical_crossentropy', 'color_output': 'binary_crossentropy'},\n",
        "              metrics={'quality_output': 'accuracy', 'color_output': 'accuracy'})\n",
        "\n",
        "# Display the model summary\n",
        "model.summary()"
      ]
    },
    {
      "cell_type": "markdown",
      "metadata": {
        "id": "WRzVMPq8_rEF"
      },
      "source": [
        "To fit the model to the data, we specify X_train as normal, but pass a dictionary for the y_data."
      ]
    },
    {
      "cell_type": "code",
      "execution_count": 8,
      "metadata": {
        "colab": {
          "base_uri": "https://localhost:8080/"
        },
        "id": "6qZViSgY_YWM",
        "outputId": "bb21dadc-cce8-4530-b4c8-72de3816d108"
      },
      "outputs": [
        {
          "name": "stdout",
          "output_type": "stream",
          "text": [
            "Epoch 1/10\n",
            "\u001b[1m163/163\u001b[0m \u001b[32m━━━━━━━━━━━━━━━━━━━━\u001b[0m\u001b[37m\u001b[0m \u001b[1m2s\u001b[0m 4ms/step - color_output_accuracy: 0.7951 - loss: 2.1331 - quality_output_accuracy: 0.7163 - val_color_output_accuracy: 0.9362 - val_loss: 0.9450 - val_quality_output_accuracy: 0.7062\n",
            "Epoch 2/10\n",
            "\u001b[1m163/163\u001b[0m \u001b[32m━━━━━━━━━━━━━━━━━━━━\u001b[0m\u001b[37m\u001b[0m \u001b[1m0s\u001b[0m 2ms/step - color_output_accuracy: 0.9382 - loss: 0.7952 - quality_output_accuracy: 0.7758 - val_color_output_accuracy: 0.9354 - val_loss: 0.8535 - val_quality_output_accuracy: 0.7454\n",
            "Epoch 3/10\n",
            "\u001b[1m163/163\u001b[0m \u001b[32m━━━━━━━━━━━━━━━━━━━━\u001b[0m\u001b[37m\u001b[0m \u001b[1m0s\u001b[0m 2ms/step - color_output_accuracy: 0.9470 - loss: 0.8022 - quality_output_accuracy: 0.7598 - val_color_output_accuracy: 0.9369 - val_loss: 0.8671 - val_quality_output_accuracy: 0.7508\n",
            "Epoch 4/10\n",
            "\u001b[1m163/163\u001b[0m \u001b[32m━━━━━━━━━━━━━━━━━━━━\u001b[0m\u001b[37m\u001b[0m \u001b[1m0s\u001b[0m 2ms/step - color_output_accuracy: 0.9438 - loss: 0.8032 - quality_output_accuracy: 0.7596 - val_color_output_accuracy: 0.9392 - val_loss: 0.7973 - val_quality_output_accuracy: 0.7485\n",
            "Epoch 5/10\n",
            "\u001b[1m163/163\u001b[0m \u001b[32m━━━━━━━━━━━━━━━━━━━━\u001b[0m\u001b[37m\u001b[0m \u001b[1m0s\u001b[0m 2ms/step - color_output_accuracy: 0.9505 - loss: 0.7535 - quality_output_accuracy: 0.7681 - val_color_output_accuracy: 0.9415 - val_loss: 0.9287 - val_quality_output_accuracy: 0.7354\n",
            "Epoch 6/10\n",
            "\u001b[1m163/163\u001b[0m \u001b[32m━━━━━━━━━━━━━━━━━━━━\u001b[0m\u001b[37m\u001b[0m \u001b[1m0s\u001b[0m 2ms/step - color_output_accuracy: 0.9477 - loss: 0.7877 - quality_output_accuracy: 0.7653 - val_color_output_accuracy: 0.9469 - val_loss: 0.8012 - val_quality_output_accuracy: 0.7485\n",
            "Epoch 7/10\n",
            "\u001b[1m163/163\u001b[0m \u001b[32m━━━━━━━━━━━━━━━━━━━━\u001b[0m\u001b[37m\u001b[0m \u001b[1m1s\u001b[0m 3ms/step - color_output_accuracy: 0.9584 - loss: 0.7143 - quality_output_accuracy: 0.7715 - val_color_output_accuracy: 0.9485 - val_loss: 0.7885 - val_quality_output_accuracy: 0.7454\n",
            "Epoch 8/10\n",
            "\u001b[1m163/163\u001b[0m \u001b[32m━━━━━━━━━━━━━━━━━━━━\u001b[0m\u001b[37m\u001b[0m \u001b[1m1s\u001b[0m 4ms/step - color_output_accuracy: 0.9612 - loss: 0.7226 - quality_output_accuracy: 0.7583 - val_color_output_accuracy: 0.9523 - val_loss: 0.7581 - val_quality_output_accuracy: 0.7554\n",
            "Epoch 9/10\n",
            "\u001b[1m163/163\u001b[0m \u001b[32m━━━━━━━━━━━━━━━━━━━━\u001b[0m\u001b[37m\u001b[0m \u001b[1m1s\u001b[0m 4ms/step - color_output_accuracy: 0.9576 - loss: 0.6899 - quality_output_accuracy: 0.7772 - val_color_output_accuracy: 0.9523 - val_loss: 0.7551 - val_quality_output_accuracy: 0.7485\n",
            "Epoch 10/10\n",
            "\u001b[1m163/163\u001b[0m \u001b[32m━━━━━━━━━━━━━━━━━━━━\u001b[0m\u001b[37m\u001b[0m \u001b[1m1s\u001b[0m 4ms/step - color_output_accuracy: 0.9634 - loss: 0.7518 - quality_output_accuracy: 0.7667 - val_color_output_accuracy: 0.9592 - val_loss: 0.7484 - val_quality_output_accuracy: 0.7523\n"
          ]
        },
        {
          "data": {
            "text/plain": [
              "<keras.src.callbacks.history.History at 0x1f14192e3e0>"
            ]
          },
          "execution_count": 8,
          "metadata": {},
          "output_type": "execute_result"
        }
      ],
      "source": [
        "# Fit the model\n",
        "model.fit(\n",
        "    X,\n",
        "    {'quality_output': y_quality, 'color_output': y_color},\n",
        "    epochs=10,\n",
        "    batch_size=32,\n",
        "    validation_split=0.2\n",
        ")"
      ]
    },
    {
      "cell_type": "code",
      "execution_count": 9,
      "metadata": {
        "colab": {
          "base_uri": "https://localhost:8080/"
        },
        "id": "bmXGMW78_-hw",
        "outputId": "7e2b8798-6ccd-4422-a2f9-c15778391428"
      },
      "outputs": [
        {
          "name": "stdout",
          "output_type": "stream",
          "text": [
            "\u001b[1m51/51\u001b[0m \u001b[32m━━━━━━━━━━━━━━━━━━━━\u001b[0m\u001b[37m\u001b[0m \u001b[1m0s\u001b[0m 975us/step - color_output_accuracy: 0.9717 - loss: 0.7376 - quality_output_accuracy: 0.7533\n"
          ]
        },
        {
          "data": {
            "text/plain": [
              "[0.7208593487739563, 0.9710769057273865, 0.7556923031806946]"
            ]
          },
          "execution_count": 9,
          "metadata": {},
          "output_type": "execute_result"
        }
      ],
      "source": [
        "# Evaluate the model with the testing data\n",
        "test_results = model.evaluate(X_test, {'quality_output': y_quality_test, 'color_output': y_color_test})\n",
        "test_results"
      ]
    },
    {
      "cell_type": "code",
      "execution_count": 10,
      "metadata": {
        "colab": {
          "base_uri": "https://localhost:8080/"
        },
        "id": "FJTodwHcCVLd",
        "outputId": "9eb2ff12-6a13-4a1d-ef82-b17d46990afb"
      },
      "outputs": [
        {
          "ename": "IndexError",
          "evalue": "list index out of range",
          "output_type": "error",
          "traceback": [
            "\u001b[1;31m---------------------------------------------------------------------------\u001b[0m",
            "\u001b[1;31mIndexError\u001b[0m                                Traceback (most recent call last)",
            "Cell \u001b[1;32mIn[10], line 2\u001b[0m\n\u001b[0;32m      1\u001b[0m \u001b[38;5;66;03m# Print the quality and color accuracy\u001b[39;00m\n\u001b[1;32m----> 2\u001b[0m \u001b[38;5;28mprint\u001b[39m(\u001b[38;5;124mf\u001b[39m\u001b[38;5;124m\"\u001b[39m\u001b[38;5;124mQuality Accuracy: \u001b[39m\u001b[38;5;132;01m{\u001b[39;00mtest_results[\u001b[38;5;241m3\u001b[39m]\u001b[38;5;132;01m}\u001b[39;00m\u001b[38;5;124m\"\u001b[39m)\n\u001b[0;32m      3\u001b[0m \u001b[38;5;28mprint\u001b[39m(\u001b[38;5;124mf\u001b[39m\u001b[38;5;124m\"\u001b[39m\u001b[38;5;124mColor Accuracy: \u001b[39m\u001b[38;5;132;01m{\u001b[39;00mtest_results[\u001b[38;5;241m4\u001b[39m]\u001b[38;5;132;01m}\u001b[39;00m\u001b[38;5;124m\"\u001b[39m)\n",
            "\u001b[1;31mIndexError\u001b[0m: list index out of range"
          ]
        }
      ],
      "source": [
        "# Print the quality and color accuracy\n",
        "print(f\"Quality Accuracy: {test_results[3]}\")\n",
        "print(f\"Color Accuracy: {test_results[4]}\")\n"
      ]
    },
    {
      "cell_type": "code",
      "execution_count": 10,
      "metadata": {
        "id": "inVOuxW5Ckjf"
      },
      "outputs": [],
      "source": [
        "# Import necessary libraries\n",
        "import pandas as pd\n",
        "import numpy as np\n",
        "import matplotlib.pyplot as plt\n",
        "import seaborn as sns\n",
        "from sklearn.model_selection import train_test_split\n",
        "from sklearn.preprocessing import StandardScaler\n",
        "from sklearn.metrics import classification_report, confusion_matrix\n",
        "from sklearn.ensemble import RandomForestClassifier\n",
        "\n",
        "import tensorflow as tf\n",
        "from tensorflow import keras\n",
        "from tensorflow.keras.models import Sequential\n",
        "from tensorflow.keras.layers import Dense, Dropout\n",
        "\n",
        "from transformers import AutoTokenizer, TFAutoModelForSequenceClassification\n",
        "from transformers import pipeline\n",
        "\n",
        "from vaderSentiment.vaderSentiment import SentimentIntensityAnalyzer\n",
        "\n",
        "# Load the dataset\n",
        "file_path = '/mnt/data/Project 3 Baseball Stats.csv'\n",
        "data = pd.read_csv(file_path)\n",
        "\n",
        "# Display basic information about the dataset\n",
        "print(data.info())\n",
        "print(data.head())\n",
        "\n",
        "# Data Exploration\n",
        "# Check for missing values\n",
        "print(data.isnull().sum())\n",
        "\n",
        "# Statistical summary\n",
        "print(data.describe())\n",
        "\n",
        "# Data Cleaning and Preprocessing\n",
        "# Fill or drop missing values, if any\n",
        "data = data.dropna()\n",
        "\n",
        "# Feature Engineering\n",
        "# Example: Create a new feature 'Run_Difference' as 'Runs Scored - Runs Allowed'\n",
        "data['Run_Difference'] = data['R'] - data['RA']\n",
        "\n",
        "# Select features and target variable\n",
        "features = data[['Run_Difference', 'HR', 'ERA', 'W']]\n",
        "target = data['Playoffs']\n",
        "\n",
        "# Split the data into training and testing sets\n",
        "X_train, X_test, y_train, y_test = train_test_split(features, target, test_size=0.2, random_state=42)\n",
        "\n",
        "# Standardize the features\n",
        "scaler = StandardScaler()\n",
        "X_train_scaled = scaler.fit_transform(X_train)\n",
        "X_test_scaled = scaler.transform(X_test)\n",
        "\n",
        "# Initial Model Implementation using RandomForestClassifier from scikit-learn\n",
        "model_rf = RandomForestClassifier(n_estimators=100, random_state=42)\n",
        "model_rf.fit(X_train_scaled, y_train)\n",
        "\n",
        "# Predict on the test set\n",
        "y_pred_rf = model_rf.predict(X_test_scaled)\n",
        "\n",
        "# Evaluate the model\n",
        "print(\"RandomForestClassifier Evaluation\")\n",
        "print(classification_report(y_test, y_pred_rf))\n",
        "print(confusion_matrix(y_test, y_pred_rf))\n",
        "\n",
        "# Plot feature importances\n",
        "importances = model_rf.feature_importances_\n",
        "indices = np.argsort(importances)[::-1]\n",
        "plt.figure()\n",
        "plt.title(\"Feature importances\")\n",
        "plt.bar(range(X_train.shape[1]), importances[indices], color=\"r\", align=\"center\")\n",
        "plt.xticks(range(X_train.shape[1]), features.columns[indices], rotation=90)\n",
        "plt.xlim([-1, X_train.shape[1]])\n",
        "plt.show()\n",
        "\n",
        "# Advanced Model Implementation using Neural Network (Keras)\n",
        "model_nn = Sequential([\n",
        "    Dense(64, activation='relu', input_shape=(X_train_scaled.shape[1],)),\n",
        "    Dropout(0.5),\n",
        "    Dense(32, activation='relu'),\n",
        "    Dropout(0.5),\n",
        "    Dense(1, activation='sigmoid')\n",
        "])\n",
        "\n",
        "model_nn.compile(optimizer='adam', loss='binary_crossentropy', metrics=['accuracy'])\n",
        "model_nn.fit(X_train_scaled, y_train, epochs=50, batch_size=32, validation_split=0.2)\n",
        "\n",
        "# Evaluate the neural network model\n",
        "loss, accuracy = model_nn.evaluate(X_test_scaled, y_test)\n",
        "print(f\"Neural Network Model Accuracy: {accuracy}\")\n",
        "\n",
        "# Predict on the test set\n",
        "y_pred_nn = (model_nn.predict(X_test_scaled) > 0.5).astype(\"int32\")\n",
        "\n",
        "print(\"Neural Network Evaluation\")\n",
        "print(classification_report(y_test, y_pred_nn))\n",
        "print(confusion_matrix(y_test, y_pred_nn))\n",
        "\n",
        "# Advanced Model Implementation using Transformer Model from Hugging Face\n",
        "# Assume we have some textual data for sentiment analysis or additional insights\n",
        "textual_data = [\"The team had a great season with many wins.\", \"The pitching performance was subpar this year.\"]\n",
        "\n",
        "# Use VADER for sentiment analysis\n",
        "analyzer = SentimentIntensityAnalyzer()\n",
        "for sentence in textual_data:\n",
        "    vs = analyzer.polarity_scores(sentence)\n",
        "    print(f\"{sentence}: {vs}\")\n",
        "\n",
        "# Load a pre-trained transformer model for sequence classification\n",
        "tokenizer = AutoTokenizer.from_pretrained(\"distilbert-base-uncased\")\n",
        "model_transformer = TFAutoModelForSequenceClassification.from_pretrained(\"distilbert-base-uncased\")\n",
        "\n",
        "# Tokenize and classify sample texts\n",
        "inputs = tokenizer(textual_data, return_tensors=\"tf\", padding=True, truncation=True)\n",
        "outputs = model_transformer(inputs)\n",
        "predictions = tf.nn.softmax(outputs.logits, axis=-1)\n",
        "\n",
        "print(\"Transformer Model Predictions\")\n",
        "print(predictions)\n",
        "\n",
        "# Summarize the project\n",
        "print(\"Project Summary\")\n",
        "print(\"Data Exploration and Preprocessing steps were successfully completed.\")\n",
        "print(\"Initial model using RandomForestClassifier was implemented and evaluated.\")\n",
        "print(\"Advanced models using Neural Network and Transformer were implemented and evaluated.\")\n",
        "print(\"VADER sentiment analysis was performed on sample textual data.\")\n"
      ]
    }
  ],
  "metadata": {
    "colab": {
      "provenance": []
    },
    "kernelspec": {
      "display_name": "Python 3",
      "name": "python3"
    },
    "language_info": {
      "codemirror_mode": {
        "name": "ipython",
        "version": 3
      },
      "file_extension": ".py",
      "mimetype": "text/x-python",
      "name": "python",
      "nbconvert_exporter": "python",
      "pygments_lexer": "ipython3",
      "version": "3.10.13"
    }
  },
  "nbformat": 4,
  "nbformat_minor": 0
}
